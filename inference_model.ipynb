{
 "cells": [
  {
   "cell_type": "code",
   "execution_count": 2,
   "metadata": {},
   "outputs": [],
   "source": [
    "import torch\n",
    "import rasterio\n",
    "import numpy as np\n",
    "import os\n",
    "from Model import mlp"
   ]
  },
  {
   "cell_type": "code",
   "execution_count": 3,
   "metadata": {},
   "outputs": [
    {
     "data": {
      "text/plain": [
       "<All keys matched successfully>"
      ]
     },
     "execution_count": 3,
     "metadata": {},
     "output_type": "execute_result"
    }
   ],
   "source": [
    "model_name = 'MLP'\n",
    "Model_MLP = mlp.MLP(input_size=8, num_class=5)\n",
    "Model_MLP.load_state_dict(torch.load('MLP_best.pth'))\n"
   ]
  },
  {
   "cell_type": "code",
   "execution_count": 4,
   "metadata": {},
   "outputs": [],
   "source": [
    "raster_path = \"./Data/crop_planet.tif\"\n",
    "\n",
    "with rasterio.open(raster_path) as src:\n",
    "    raster_data = src.read()\n",
    "    raster_profile = src.profile\n",
    "\n",
    "num_bands, height, width = raster_data.shape"
   ]
  },
  {
   "cell_type": "code",
   "execution_count": 6,
   "metadata": {},
   "outputs": [
    {
     "name": "stdout",
     "output_type": "stream",
     "text": [
      "(1469904, 8)\n"
     ]
    }
   ],
   "source": [
    "flat_data = raster_data.reshape(num_bands, -1).T\n",
    "print(flat_data.shape)\n",
    "flat_data_tensor = torch.tensor(flat_data, dtype=torch.float32).unsqueeze(1) "
   ]
  },
  {
   "cell_type": "code",
   "execution_count": 7,
   "metadata": {},
   "outputs": [
    {
     "name": "stdout",
     "output_type": "stream",
     "text": [
      "1D Model: MLP, Predictions shape: (1469904,)\n"
     ]
    }
   ],
   "source": [
    "Model_MLP.eval()\n",
    "\n",
    "with torch.no_grad():\n",
    "    batch_size = 1024  \n",
    "    num_samples = flat_data_tensor.shape[0]\n",
    "    num_batches = (num_samples + batch_size - 1) // batch_size\n",
    "\n",
    "    predictions = []\n",
    "    for i in range(num_batches):\n",
    "        start_index = i * batch_size\n",
    "        end_index = min((i + 1) * batch_size, num_samples)\n",
    "        batch_data = flat_data_tensor[start_index:end_index]\n",
    "                \n",
    "        batch_data = batch_data.squeeze(-2)  # Shape to (batch_size, 36)\n",
    "\n",
    "        outputs = Model_MLP(batch_data)\n",
    "        _, predicted_classes = torch.max(outputs, 1)\n",
    "        predictions.append(predicted_classes.numpy())\n",
    "\n",
    "        predicted_classes = np.concatenate(predictions)\n",
    "\n",
    "print(f\"1D Model: {model_name}, Predictions shape: {predicted_classes.shape}\")"
   ]
  },
  {
   "cell_type": "code",
   "execution_count": 8,
   "metadata": {},
   "outputs": [
    {
     "name": "stdout",
     "output_type": "stream",
     "text": [
      "1D Predictions saved to ./classified_MLP.tif\n"
     ]
    }
   ],
   "source": [
    "predicted_classes = predicted_classes.reshape(height, width)\n",
    "\n",
    "output_file = os.path.join(\"./classified_{}.tif\".format(model_name))\n",
    "with rasterio.open(\n",
    "    output_file,\n",
    "    'w',\n",
    "    driver='GTiff',\n",
    "    height=height,\n",
    "    width=width,\n",
    "    count=1, \n",
    "    dtype=rasterio.uint8,  \n",
    "    crs=src.crs,\n",
    "    transform=src.transform,\n",
    ") as dst:\n",
    "    dst.write(predicted_classes, 1)\n",
    "\n",
    "print(f\"1D Predictions saved to {output_file}\")\n"
   ]
  }
 ],
 "metadata": {
  "kernelspec": {
   "display_name": "base",
   "language": "python",
   "name": "python3"
  },
  "language_info": {
   "codemirror_mode": {
    "name": "ipython",
    "version": 3
   },
   "file_extension": ".py",
   "mimetype": "text/x-python",
   "name": "python",
   "nbconvert_exporter": "python",
   "pygments_lexer": "ipython3",
   "version": "3.11.7"
  }
 },
 "nbformat": 4,
 "nbformat_minor": 2
}
